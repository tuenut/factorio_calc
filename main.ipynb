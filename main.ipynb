{
 "cells": [
  {
   "cell_type": "code",
   "execution_count": 1,
   "metadata": {},
   "outputs": [],
   "source": [
    "import json\n",
    "import os\n",
    "import functools\n",
    "import math\n",
    "import copy\n",
    "\n",
    "import pprint\n",
    "pp = pprint.PrettyPrinter(indent=4, depth=10, width=120)\n",
    "\n",
    "\n",
    "\n"
   ]
  },
  {
   "cell_type": "code",
   "execution_count": null,
   "metadata": {},
   "outputs": [],
   "source": [
    "recipes = None\n",
    "with open('/home/tuenut/Downloads/Telegram Desktop/recipes.json', 'r') as file:\n",
    "    recipes = json.load(file, )"
   ]
  },
  {
   "cell_type": "code",
   "execution_count": null,
   "metadata": {},
   "outputs": [],
   "source": [
    "pp.pprint(recipes)"
   ]
  },
  {
   "cell_type": "code",
   "execution_count": null,
   "metadata": {},
   "outputs": [],
   "source": [
    "recipes['copper-plate'], recipes['copper-cable']"
   ]
  },
  {
   "cell_type": "code",
   "execution_count": null,
   "metadata": {},
   "outputs": [],
   "source": [
    "PRODUCT_TYPES = {'advanced-crafting',\n",
    " 'centrifuging',\n",
    " 'chemistry',\n",
    " 'crafting',\n",
    " 'crafting-with-fluid',\n",
    " 'oil-processing',\n",
    " 'rocket-building',\n",
    " 'smelting'}"
   ]
  },
  {
   "cell_type": "code",
   "execution_count": null,
   "metadata": {},
   "outputs": [],
   "source": [
    "producers = {\n",
    "    \"electric-furnace\": {\n",
    "        \"name\": \"electric-furnace\", \n",
    "        \"prod_types\": ['smelting'], \n",
    "        \"speed\": 2,\n",
    "        \"mod slots\": 2\n",
    "    },\n",
    "    \"assembling-machine-1\": {\n",
    "        \"name\": \"assembling-machine-1\", \n",
    "        \"prod_types\": ['crafting'], \n",
    "        \"speed\": 0.5,\n",
    "        \"mod slots\": 0\n",
    "    },\n",
    "    \"assembling-machine-2\": {\n",
    "        \"name\": \"assembling-machine-2\", \n",
    "        \"prod_types\": ['crafting', 'crafting-with-fluid', 'advanced-crafting'], \n",
    "        \"speed\": 0.75,\n",
    "        \"mod slots\": 2\n",
    "    },\n",
    "    \"assembling-machine-3\": {\n",
    "        \"name\": \"assembling-machine-3\", \n",
    "        \"prod_types\": ['crafting', 'crafting-with-fluid', 'advanced-crafting'], \n",
    "        \"speed\": 1.25,\n",
    "        \"mod slots\": 4\n",
    "    },\n",
    "    \"oil-refinery.basic\": {\n",
    "        \"name\": \"oil-refinery.basic\", \n",
    "        \"prod_types\": ['oil-processing'], \n",
    "        \"speed\": 1,\n",
    "        \"mod slots\": 3\n",
    "    },\n",
    "    \"oil-refinery.advanced\": {\n",
    "        \"name\": \"oil-refinery.advanced\", \n",
    "        \"prod_types\": ['oil-processing'], \n",
    "        \"speed\": 1,\n",
    "        \"mod slots\": 3\n",
    "    },\n",
    "    \"oil-refinery.coal-liquefaction\": {\n",
    "        \"name\": \"oil-refinery.coal-liquefaction\", \n",
    "        \"prod_types\": ['oil-processing'], \n",
    "        \"speed\": 1,\n",
    "        \"mod slots\": 3\n",
    "    },\n",
    "    \"chemical-plant\": {\n",
    "        \"name\": \"chemical-plant\", \n",
    "        \"prod_types\": ['chemistry'], \n",
    "        \"speed\": 1.25,\n",
    "        \"mod slots\": 3\n",
    "    },\n",
    "}"
   ]
  },
  {
   "cell_type": "code",
   "execution_count": null,
   "metadata": {},
   "outputs": [],
   "source": []
  },
  {
   "cell_type": "code",
   "execution_count": null,
   "metadata": {},
   "outputs": [],
   "source": [
    "class Calculator:\n",
    "    product = None\n",
    "    product_asms = None\n",
    "    assemblers_schema = []\n",
    "    \n",
    "    EXCLUDE_LIST = ['iron-ore', 'copper-ore', 'coal', 'petroleum-gas', 'stone', 'water']\n",
    "    \n",
    "    def input_data(self, product_name=None, amount_per_minute=0, available_assemblers=[]):\n",
    "        self.assemblers_schema = []\n",
    "        self.product = recipes[product_name]\n",
    "        self.product_asms = available_assemblers\n",
    "        self.target_speed = amount_per_minute / 60\n",
    "\n",
    "    def calc(self, product_name=None, amount=1, ):\n",
    "        if not self.product_asms:\n",
    "            return \"Cant craft without assemblers. Self craft not implemented.\"\n",
    "        \n",
    "        product = self.product if not product_name else recipes[product_name]\n",
    "                \n",
    "        asm = self._get_asm(self.product['category'])\n",
    "        product_time = product['energy'] / asm['speed'] * amount\n",
    "#         if product_name:\n",
    "#             product_time *= count\n",
    "        product_speed = 1 / product_time \n",
    "        \n",
    "        count = self.target_speed / product_speed\n",
    "            \n",
    "        for item in product['ingredients']:\n",
    "            if item['name'] not in self.EXCLUDE_LIST:\n",
    "                print(item['name'])\n",
    "                self.calc(product_name=item['name'], amount=item['amount'], )\n",
    "\n",
    "        self.assemblers_schema.append({\n",
    "            product['name']: {\n",
    "                'count of producer': count,\n",
    "                'int count of producer': math.ceil(count),\n",
    "                'producer': asm['name'],\n",
    "                'speed': product_speed\n",
    "            }\n",
    "        })\n",
    "        \n",
    "#         if not product_name:\n",
    "#             for item in product['ingredients']:\n",
    "#                 self.assemblers_schema\n",
    "        \n",
    "        return self.assemblers_schema\n",
    "                \n",
    "    def _get_asm(self, prod_type):\n",
    "        asm = [producers[asm_name] for asm_name in self.product_asms if prod_type in producers[asm_name]['prod_types']][0]\n",
    "        return asm"
   ]
  },
  {
   "cell_type": "code",
   "execution_count": null,
   "metadata": {},
   "outputs": [],
   "source": [
    "calculator = Calculator()"
   ]
  },
  {
   "cell_type": "code",
   "execution_count": null,
   "metadata": {},
   "outputs": [],
   "source": [
    "calculator.input_data(product_name='assembling-machine-1', amount_per_minute=500, available_assemblers=['assembling-machine-3', 'electric-furnace'])"
   ]
  },
  {
   "cell_type": "code",
   "execution_count": null,
   "metadata": {},
   "outputs": [],
   "source": [
    "calculator.calc()"
   ]
  },
  {
   "cell_type": "code",
   "execution_count": null,
   "metadata": {},
   "outputs": [],
   "source": [
    "4*"
   ]
  },
  {
   "cell_type": "code",
   "execution_count": null,
   "metadata": {},
   "outputs": [],
   "source": [
    "8.75*60"
   ]
  },
  {
   "cell_type": "code",
   "execution_count": null,
   "metadata": {},
   "outputs": [],
   "source": [
    "5/2"
   ]
  },
  {
   "cell_type": "code",
   "execution_count": 78,
   "metadata": {},
   "outputs": [],
   "source": [
    "\"\"\"\n",
    "Класс продукта:\n",
    "    - рецепт dict\n",
    "    - базовый выход dict\n",
    "    - @property выход\n",
    "        вернуть базовый выход, если вход не указан или рассчитать на основе входа\n",
    "    - метод сложения двух продуктов.\n",
    "        на выходе получаем продукт с суммой базовых выходов и рецептов обоих продуктов\n",
    "        продуктов относительно входа или вернут 1 для каждого, если вход не указан.\n",
    "        \n",
    "        \n",
    "\"\"\"\n",
    "\n",
    "class Product:\n",
    "    recipe = dict()\n",
    "    base_output = dict()\n",
    "    _input = dict()\n",
    "    \n",
    "    def __init__(self, recipe=None, base_output=None, raw=None):\n",
    "        self.recipe = recipe if recipe else self.recipe\n",
    "        self.base_output = base_output if base_output else self.base_output\n",
    "        self.raw = raw if raw else None\n",
    "    \n",
    "    def __add__(self, other):\n",
    "        klass = Product()\n",
    "        \n",
    "        klass.recipe = copy.deepcopy(self.recipe)\n",
    "        for key, val in other.recipe.items():\n",
    "            try:\n",
    "                klass.recipe[key] += val\n",
    "            except KeyError:\n",
    "                klass.recipe[key] = val\n",
    "                \n",
    "        klass.base_output = copy.deepcopy(self.base_output)\n",
    "        for key, val in other.base_output.items():            \n",
    "            try:\n",
    "                klass.base_output[key] += val\n",
    "            except KeyError:\n",
    "                klass.base_output[key] = val\n",
    "                \n",
    "        raw = copy.deepcopy(self.raw)\n",
    "        for key, val in other.raw.items():\n",
    "            try:\n",
    "                raw[key] += val\n",
    "            except KeyError:\n",
    "                raw[key] = val\n",
    "        klass.raw = raw\n",
    "        \n",
    "        return klass\n",
    "    \n",
    "    def __mul__(self, other):\n",
    "        klass = Product(recipe=copy.deepcopy(self.recipe),\n",
    "                        base_output=copy.deepcopy(self.base_output))\n",
    "        for key, val in klass.recipe.items():\n",
    "            try:\n",
    "                klass.recipe[key] *= other\n",
    "            except KeyError:\n",
    "                klass.recipe[key] = other\n",
    "                \n",
    "        for key, val in klass.base_output.items():            \n",
    "            try:\n",
    "                klass.base_output[key] *= other\n",
    "            except KeyError:\n",
    "                klass.base_output[key] = other\n",
    "                \n",
    "        raw = copy.deepcopy(self.raw)\n",
    "        for key, val in klass.raw.items():\n",
    "            try:\n",
    "                raw[key] *= other\n",
    "            except KeyError:\n",
    "                raw[key] = other\n",
    "        klass.raw = raw\n",
    "        \n",
    "        return klass\n",
    "    \n",
    "    def __str__(self):\n",
    "        return 'In {1}\\nOut {0}'.format(str(self.base_output), str(self.recipe))\n",
    "    \n",
    "    __repr__ = __str__\n",
    "    \n",
    "    @property\n",
    "    def raw(self, ):\n",
    "        return self._input if self._input else self.recipe\n",
    "    \n",
    "    @raw.setter\n",
    "    def raw(self, value):\n",
    "        if isinstance(value, int):\n",
    "            self._input = {key: value for key in self.recipe.items()}\n",
    "        elif isinstance(value, dict):\n",
    "            self._input = copy.deepcopy(value)\n",
    "        else:\n",
    "            return False\n",
    "    \n",
    "    @property\n",
    "    def produce(self, ):        \n",
    "        factors = {}\n",
    "        for key, val in self.recipe.items():\n",
    "            factors[key] = self.raw[key] / val if key in self.raw else 0\n",
    "        factor = min(factors.values())\n",
    "       \n",
    "        vanila_prod = {key: val*factor for key, val in self.base_output.items()}\n",
    "        \n",
    "        for key, val in vanila_prod.items():\n",
    "            if key in self.recipe:\n",
    "                vanila_prod[key] -= self.recipe[key] * factor\n",
    "        return vanila_prod\n",
    "            \n",
    "        \n",
    "basic = Product(recipe={'oil': 100}, base_output={'heavy': 30, 'light': 30, 'petroleum': 40})\n",
    "advanced = Product(recipe={'oil': 100}, base_output={'heavy': 10, 'light': 45, 'petroleum': 55})\n",
    "heavy = Product(recipe={'heavy': 40}, base_output={'light': 30})\n",
    "light = Product(recipe={'light': 30}, base_output={'petroleum': 20})\n",
    "\n"
   ]
  },
  {
   "cell_type": "code",
   "execution_count": 109,
   "metadata": {},
   "outputs": [
    {
     "data": {
      "text/plain": [
       "({'heavy': 20.0, 'light': 0.0, 'petroleum': 1190.0},\n",
       " {'oil': 1400, 'heavy': 200, 'light': 720})"
      ]
     },
     "execution_count": 109,
     "metadata": {},
     "output_type": "execute_result"
    }
   ],
   "source": [
    "c = advanced*10 + basic*4 + heavy*5 + light*24\n",
    "c.produce, c.raw"
   ]
  },
  {
   "cell_type": "code",
   "execution_count": 104,
   "metadata": {},
   "outputs": [
    {
     "data": {
      "text/plain": [
       "({'heavy': 20.0, 'light': 0.0, 'petroleum': 1250.0},\n",
       " {'oil': 1400, 'heavy': 120, 'light': 720})"
      ]
     },
     "execution_count": 104,
     "metadata": {},
     "output_type": "execute_result"
    }
   ],
   "source": [
    "c = advanced*14 + heavy*3 + light*24\n",
    "c.produce, c.raw"
   ]
  },
  {
   "cell_type": "code",
   "execution_count": 101,
   "metadata": {},
   "outputs": [
    {
     "data": {
      "text/plain": [
       "({'heavy': 20.0, 'light': 0.0, 'petroleum': 1250.0},\n",
       " {'oil': 1400, 'heavy': 120, 'light': 720})"
      ]
     },
     "execution_count": 101,
     "metadata": {},
     "output_type": "execute_result"
    }
   ],
   "source": []
  },
  {
   "cell_type": "code",
   "execution_count": 74,
   "metadata": {},
   "outputs": [
    {
     "name": "stdout",
     "output_type": "stream",
     "text": [
      "{'oil': 1.0} 1.0\n"
     ]
    },
    {
     "data": {
      "text/plain": [
       "({'oil': 100}, {'oil': 100}, {'heavy': 10.0, 'light': 45.0, 'petroleum': 55.0})"
      ]
     },
     "execution_count": 74,
     "metadata": {},
     "output_type": "execute_result"
    }
   ],
   "source": [
    "c = advanced*1\n",
    "c.raw, c.recipe, c.produce"
   ]
  },
  {
   "cell_type": "code",
   "execution_count": null,
   "metadata": {},
   "outputs": [],
   "source": [
    "a.symmetric_difference(b)"
   ]
  },
  {
   "cell_type": "code",
   "execution_count": null,
   "metadata": {},
   "outputs": [],
   "source": [
    "min({'a':1, 'b':2})"
   ]
  },
  {
   "cell_type": "code",
   "execution_count": null,
   "metadata": {},
   "outputs": [],
   "source": []
  },
  {
   "cell_type": "code",
   "execution_count": null,
   "metadata": {},
   "outputs": [],
   "source": []
  }
 ],
 "metadata": {
  "kernelspec": {
   "display_name": "Python 3",
   "language": "python",
   "name": "python3"
  },
  "language_info": {
   "codemirror_mode": {
    "name": "ipython",
    "version": 3
   },
   "file_extension": ".py",
   "mimetype": "text/x-python",
   "name": "python",
   "nbconvert_exporter": "python",
   "pygments_lexer": "ipython3",
   "version": "3.6.7"
  }
 },
 "nbformat": 4,
 "nbformat_minor": 1
}
